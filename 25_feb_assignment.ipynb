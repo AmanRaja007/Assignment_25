{
 "cells": [
  {
   "cell_type": "markdown",
   "id": "4f7c0b9a-f748-4054-aa1a-df8d02cfd9b3",
   "metadata": {},
   "source": [
    "Consider following code to answer further questions:\n",
    "import pandas as pd\n",
    "course_name = [‘Data Science’, ‘Machine Learning’, ‘Big Data’, ‘Data Engineer’]\n",
    "duration = [2,3,6,4]\n",
    "df = pd.DataFrame(data = {‘course_name’ : course_name, ‘duration’ : duration})\n",
    "Q1. Write a code to print the data present in the second row of the dataframe, df."
   ]
  },
  {
   "cell_type": "code",
   "execution_count": 19,
   "id": "8d4867f7-09ac-453d-9471-108b74fe1677",
   "metadata": {},
   "outputs": [
    {
     "data": {
      "text/html": [
       "<div>\n",
       "<style scoped>\n",
       "    .dataframe tbody tr th:only-of-type {\n",
       "        vertical-align: middle;\n",
       "    }\n",
       "\n",
       "    .dataframe tbody tr th {\n",
       "        vertical-align: top;\n",
       "    }\n",
       "\n",
       "    .dataframe thead th {\n",
       "        text-align: right;\n",
       "    }\n",
       "</style>\n",
       "<table border=\"1\" class=\"dataframe\">\n",
       "  <thead>\n",
       "    <tr style=\"text-align: right;\">\n",
       "      <th></th>\n",
       "      <th>course_name</th>\n",
       "      <th>duration</th>\n",
       "    </tr>\n",
       "  </thead>\n",
       "  <tbody>\n",
       "    <tr>\n",
       "      <th>0</th>\n",
       "      <td>Data Science</td>\n",
       "      <td>2</td>\n",
       "    </tr>\n",
       "    <tr>\n",
       "      <th>1</th>\n",
       "      <td>Machine Learning</td>\n",
       "      <td>3</td>\n",
       "    </tr>\n",
       "    <tr>\n",
       "      <th>2</th>\n",
       "      <td>Big Data</td>\n",
       "      <td>6</td>\n",
       "    </tr>\n",
       "    <tr>\n",
       "      <th>3</th>\n",
       "      <td>Data Engineer</td>\n",
       "      <td>4</td>\n",
       "    </tr>\n",
       "  </tbody>\n",
       "</table>\n",
       "</div>"
      ],
      "text/plain": [
       "        course_name  duration\n",
       "0      Data Science         2\n",
       "1  Machine Learning         3\n",
       "2          Big Data         6\n",
       "3     Data Engineer         4"
      ]
     },
     "execution_count": 19,
     "metadata": {},
     "output_type": "execute_result"
    }
   ],
   "source": [
    "#solution\n",
    "import pandas as pd\n",
    "course_name = ['Data Science', 'Machine Learning', 'Big Data', 'Data Engineer']\n",
    "duration = [2,3,6,4]\n",
    "df = pd.DataFrame({'course_name':course_name, 'duration': duration})\n",
    "df"
   ]
  },
  {
   "cell_type": "code",
   "execution_count": 2,
   "id": "5dca3a01-de6f-420f-b0f1-8af3f3ce3b1b",
   "metadata": {},
   "outputs": [
    {
     "data": {
      "text/html": [
       "<div>\n",
       "<style scoped>\n",
       "    .dataframe tbody tr th:only-of-type {\n",
       "        vertical-align: middle;\n",
       "    }\n",
       "\n",
       "    .dataframe tbody tr th {\n",
       "        vertical-align: top;\n",
       "    }\n",
       "\n",
       "    .dataframe thead th {\n",
       "        text-align: right;\n",
       "    }\n",
       "</style>\n",
       "<table border=\"1\" class=\"dataframe\">\n",
       "  <thead>\n",
       "    <tr style=\"text-align: right;\">\n",
       "      <th></th>\n",
       "      <th>course_name</th>\n",
       "      <th>duration</th>\n",
       "    </tr>\n",
       "  </thead>\n",
       "  <tbody>\n",
       "    <tr>\n",
       "      <th>1</th>\n",
       "      <td>Machine Learning</td>\n",
       "      <td>3</td>\n",
       "    </tr>\n",
       "  </tbody>\n",
       "</table>\n",
       "</div>"
      ],
      "text/plain": [
       "        course_name  duration\n",
       "1  Machine Learning         3"
      ]
     },
     "execution_count": 2,
     "metadata": {},
     "output_type": "execute_result"
    }
   ],
   "source": [
    "#with slicing\n",
    "df[1:2]"
   ]
  },
  {
   "cell_type": "code",
   "execution_count": 3,
   "id": "a62964d6-ffa1-4e00-9b92-b29f8ab774ba",
   "metadata": {},
   "outputs": [
    {
     "data": {
      "text/plain": [
       "course_name    Machine Learning\n",
       "duration                      3\n",
       "Name: 1, dtype: object"
      ]
     },
     "execution_count": 3,
     "metadata": {},
     "output_type": "execute_result"
    }
   ],
   "source": [
    "# for using loc and iloc \n",
    "df.loc[1]"
   ]
  },
  {
   "cell_type": "code",
   "execution_count": 4,
   "id": "d16b14b7-d021-41ea-aa4d-e7c5f7cd1fd9",
   "metadata": {},
   "outputs": [
    {
     "data": {
      "text/plain": [
       "course_name    Machine Learning\n",
       "duration                      3\n",
       "Name: 1, dtype: object"
      ]
     },
     "execution_count": 4,
     "metadata": {},
     "output_type": "execute_result"
    }
   ],
   "source": [
    "df.iloc[1]"
   ]
  },
  {
   "cell_type": "markdown",
   "id": "52685ba8-0d18-4a77-be98-67532eb84580",
   "metadata": {},
   "source": [
    "Q2. What is the difference between the functions loc and iloc in pandas.DataFrame?"
   ]
  },
  {
   "cell_type": "markdown",
   "id": "eda56637-ea97-4203-9e17-c3b26ce3ccaf",
   "metadata": {},
   "source": [
    "#Solution\n",
    "Label-based: loc is used for label-based indexing. You can access rows and columns using their labels.\n",
    "Inclusive of the endpoint: When using slicing, loc includes both the start and the end labels.\n",
    "Supports boolean arrays: loc can be used with boolean arrays to filter rows.\n",
    "\n",
    "iloc\n",
    "Integer-based: iloc is used for integer-location based indexing. You access rows and columns by their integer positions.\n",
    "Exclusive of the endpoint: When using slicing, iloc is similar to Python's list slicing and does not include the end position.\n",
    "Does not support label-based indexing: iloc cannot be used with labels, only with integers."
   ]
  },
  {
   "cell_type": "markdown",
   "id": "05f8eb16-42c1-446a-8e00-7b64322cee86",
   "metadata": {},
   "source": [
    "Q3. Reindex the given dataframe using a variable, reindex = [3,0,1,2] and store it in the variable, new_df\n",
    "then find the output for both new_df.loc[2] and new_df.iloc[2]."
   ]
  },
  {
   "cell_type": "code",
   "execution_count": 5,
   "id": "1ad398fe-6a9e-40dd-a325-7454530c2048",
   "metadata": {},
   "outputs": [],
   "source": [
    "#solution\n",
    "re_index  = [3,0,1,2]\n",
    "new_df = df.reindex(re_index)"
   ]
  },
  {
   "cell_type": "code",
   "execution_count": 6,
   "id": "448f5d8e-4e99-4119-bdce-a17cd6466afb",
   "metadata": {},
   "outputs": [
    {
     "data": {
      "text/plain": [
       "course_name    Big Data\n",
       "duration              6\n",
       "Name: 2, dtype: object"
      ]
     },
     "execution_count": 6,
     "metadata": {},
     "output_type": "execute_result"
    }
   ],
   "source": [
    "new_df.loc[2]"
   ]
  },
  {
   "cell_type": "code",
   "execution_count": 7,
   "id": "07d2dffe-a446-4592-916b-3e6cde591ebe",
   "metadata": {},
   "outputs": [
    {
     "data": {
      "text/plain": [
       "course_name    Machine Learning\n",
       "duration                      3\n",
       "Name: 1, dtype: object"
      ]
     },
     "execution_count": 7,
     "metadata": {},
     "output_type": "execute_result"
    }
   ],
   "source": [
    "new_df.iloc[2]"
   ]
  },
  {
   "cell_type": "markdown",
   "id": "69cab0f5-928a-475b-a00c-97267ac7c965",
   "metadata": {},
   "source": [
    "Consider the below code to answer further questions:\n",
    "import pandas as pd\n",
    "import numpy as np\n",
    "columns = ['column_1', 'column_2', 'column_3', 'column_4', 'column_5', 'column_6']\n",
    "indices = [1,2,3,4,5,6]\n",
    "#Creating a dataframe:\n",
    "df1 = pd.DataFrame(np.random.rand(6,6), columns = columns, index = indices)\n",
    "\n",
    "Q4. Write a code to find the following statistical measurements for the above dataframe df1:\n",
    "(i) mean of each and every column present in the dataframe.\n",
    "(ii) standard deviation of column, ‘column_2’"
   ]
  },
  {
   "cell_type": "code",
   "execution_count": 8,
   "id": "8ece2ccf-606b-4668-be39-babf063ad62e",
   "metadata": {},
   "outputs": [
    {
     "data": {
      "text/html": [
       "<div>\n",
       "<style scoped>\n",
       "    .dataframe tbody tr th:only-of-type {\n",
       "        vertical-align: middle;\n",
       "    }\n",
       "\n",
       "    .dataframe tbody tr th {\n",
       "        vertical-align: top;\n",
       "    }\n",
       "\n",
       "    .dataframe thead th {\n",
       "        text-align: right;\n",
       "    }\n",
       "</style>\n",
       "<table border=\"1\" class=\"dataframe\">\n",
       "  <thead>\n",
       "    <tr style=\"text-align: right;\">\n",
       "      <th></th>\n",
       "      <th>column_1</th>\n",
       "      <th>column_2</th>\n",
       "      <th>column_3</th>\n",
       "      <th>column_4</th>\n",
       "      <th>column_5</th>\n",
       "      <th>column_6</th>\n",
       "    </tr>\n",
       "  </thead>\n",
       "  <tbody>\n",
       "    <tr>\n",
       "      <th>1</th>\n",
       "      <td>0.847450</td>\n",
       "      <td>0.199655</td>\n",
       "      <td>0.773640</td>\n",
       "      <td>0.155002</td>\n",
       "      <td>0.089512</td>\n",
       "      <td>0.972227</td>\n",
       "    </tr>\n",
       "    <tr>\n",
       "      <th>2</th>\n",
       "      <td>0.042467</td>\n",
       "      <td>0.301274</td>\n",
       "      <td>0.093258</td>\n",
       "      <td>0.134820</td>\n",
       "      <td>0.333808</td>\n",
       "      <td>0.314764</td>\n",
       "    </tr>\n",
       "    <tr>\n",
       "      <th>3</th>\n",
       "      <td>0.171861</td>\n",
       "      <td>0.525873</td>\n",
       "      <td>0.152454</td>\n",
       "      <td>0.373477</td>\n",
       "      <td>0.714098</td>\n",
       "      <td>0.591769</td>\n",
       "    </tr>\n",
       "    <tr>\n",
       "      <th>4</th>\n",
       "      <td>0.623450</td>\n",
       "      <td>0.894291</td>\n",
       "      <td>0.205897</td>\n",
       "      <td>0.409365</td>\n",
       "      <td>0.209713</td>\n",
       "      <td>0.016759</td>\n",
       "    </tr>\n",
       "    <tr>\n",
       "      <th>5</th>\n",
       "      <td>0.535178</td>\n",
       "      <td>0.674332</td>\n",
       "      <td>0.400931</td>\n",
       "      <td>0.885571</td>\n",
       "      <td>0.027805</td>\n",
       "      <td>0.157601</td>\n",
       "    </tr>\n",
       "    <tr>\n",
       "      <th>6</th>\n",
       "      <td>0.631640</td>\n",
       "      <td>0.773954</td>\n",
       "      <td>0.387682</td>\n",
       "      <td>0.150116</td>\n",
       "      <td>0.678563</td>\n",
       "      <td>0.967160</td>\n",
       "    </tr>\n",
       "  </tbody>\n",
       "</table>\n",
       "</div>"
      ],
      "text/plain": [
       "   column_1  column_2  column_3  column_4  column_5  column_6\n",
       "1  0.847450  0.199655  0.773640  0.155002  0.089512  0.972227\n",
       "2  0.042467  0.301274  0.093258  0.134820  0.333808  0.314764\n",
       "3  0.171861  0.525873  0.152454  0.373477  0.714098  0.591769\n",
       "4  0.623450  0.894291  0.205897  0.409365  0.209713  0.016759\n",
       "5  0.535178  0.674332  0.400931  0.885571  0.027805  0.157601\n",
       "6  0.631640  0.773954  0.387682  0.150116  0.678563  0.967160"
      ]
     },
     "execution_count": 8,
     "metadata": {},
     "output_type": "execute_result"
    }
   ],
   "source": [
    "#solution\n",
    "import pandas as pd\n",
    "import numpy as np\n",
    "columns = ['column_1', 'column_2', 'column_3', 'column_4', 'column_5', 'column_6']\n",
    "indices = [1,2,3,4,5,6]\n",
    "df = pd.DataFrame(np.random.rand(6,6),columns = columns, index = indices)\n",
    "df"
   ]
  },
  {
   "cell_type": "code",
   "execution_count": 9,
   "id": "151145de-972d-4241-8a7a-d58af4e93596",
   "metadata": {},
   "outputs": [
    {
     "data": {
      "text/plain": [
       "column_1    0.475341\n",
       "column_2    0.561563\n",
       "column_3    0.335644\n",
       "column_4    0.351392\n",
       "column_5    0.342250\n",
       "column_6    0.503380\n",
       "dtype: float64"
      ]
     },
     "execution_count": 9,
     "metadata": {},
     "output_type": "execute_result"
    }
   ],
   "source": [
    "df.mean()"
   ]
  },
  {
   "cell_type": "code",
   "execution_count": 10,
   "id": "491a8063-88c6-4f2e-8cda-f981110d26e4",
   "metadata": {},
   "outputs": [
    {
     "data": {
      "text/plain": [
       "0.271490674310188"
      ]
     },
     "execution_count": 10,
     "metadata": {},
     "output_type": "execute_result"
    }
   ],
   "source": [
    "df['column_2'].std()"
   ]
  },
  {
   "cell_type": "markdown",
   "id": "81458c0d-5fd2-48a2-b723-4b6ae99e4f34",
   "metadata": {},
   "source": [
    "Q5. Replace the data present in the second row of column, ‘column_2’ by a string variable then find the\n",
    "mean of column, column_2.\n",
    "If you are getting errors in executing it then explain why.\n",
    "[Hint: To replace the data use df1.loc[] and equate this to string data of your choice.]"
   ]
  },
  {
   "cell_type": "code",
   "execution_count": 11,
   "id": "40cc1332-d4d6-48aa-b9ab-d137f46c1b85",
   "metadata": {},
   "outputs": [],
   "source": [
    "#solution\n",
    "df.loc[2,'column_2'] = 'string_variable'"
   ]
  },
  {
   "cell_type": "code",
   "execution_count": 12,
   "id": "c4fd5be6-a4bd-47d0-a352-b3e4c57b4edd",
   "metadata": {},
   "outputs": [
    {
     "name": "stdout",
     "output_type": "stream",
     "text": [
      "Error:  unsupported operand type(s) for +: 'float' and 'str'\n"
     ]
    }
   ],
   "source": [
    "try:\n",
    "    mean_column = df['column_2'].mean()\n",
    "except Exception as e:\n",
    "    print(\"Error: \",e)"
   ]
  },
  {
   "cell_type": "markdown",
   "id": "f1ab9646-07bb-4910-81d5-ede887fe80b5",
   "metadata": {},
   "source": [
    "Explanation of the Error\n",
    "When we replace a numerical value with a string in column_2, the column's data type changes to object because it now contains mixed types (numbers and a string). The mean function cannot operate on a column with mixed data types, causing an error"
   ]
  },
  {
   "cell_type": "markdown",
   "id": "5b90bc38-a32e-443b-b8fd-4874bdbaa663",
   "metadata": {},
   "source": [
    "Q6. What do you understand about the windows function in pandas and list the types of windows functions?"
   ]
  },
  {
   "cell_type": "markdown",
   "id": "578ba04c-c506-4992-960b-115718b6f9a7",
   "metadata": {},
   "source": [
    "#Solution\n",
    "Window functions in pandas are used to perform calculations across a sliding window of rows. These functions are particularly useful for time series data or any sequential data where you want to compute statistics like moving averages, sums, or other aggregations over a specific range of rows."
   ]
  },
  {
   "cell_type": "markdown",
   "id": "33c67923-d8e5-438c-8ca8-145ddea00718",
   "metadata": {},
   "source": [
    "Types of Window Functions\n",
    "Rolling Window Functions:\n",
    "Purpose: Calculate statistics over a fixed-size window of rows.\n",
    "Example: Calculate the moving average of the last 3 rows.\n",
    "df['column'].rolling(window=3).mean()\n",
    "Explanation: This calculates the mean of the current row and the two preceding rows.\n",
    "\n",
    "Expanding Window Functions:\n",
    "Purpose: Calculate statistics over an expanding range of rows starting from the beginning.\n",
    "Example: Calculate the cumulative sum from the first row to the current row.:\n",
    "df['column'].expanding(min_periods=1).sum()\n",
    "\n",
    "Explanation: This calculates the sum from the first row up to the current row.\n",
    "Exponentially Weighted Window Functions:\n",
    "Purpose: Calculate statistics with weights that decrease exponentially over time.\n",
    "Example: Calculate an exponentially weighted moving average.\n",
    "df['column'].ewm(span=3, adjust=False).mean()"
   ]
  },
  {
   "cell_type": "markdown",
   "id": "9eb15162-da3f-4bfb-b2f9-f60db1231767",
   "metadata": {},
   "source": [
    "Q7. Write a code to print only the current month and year at the time of answering this question.\n",
    "[Hint: Use pandas.datetime function]"
   ]
  },
  {
   "cell_type": "code",
   "execution_count": 13,
   "id": "9d9f3019-a5e1-472e-a731-8cd0cc5c4fdd",
   "metadata": {},
   "outputs": [
    {
     "data": {
      "text/plain": [
       "'July 2024'"
      ]
     },
     "execution_count": 13,
     "metadata": {},
     "output_type": "execute_result"
    }
   ],
   "source": [
    "import pandas as pd\n",
    "today = pd.Timestamp.today()\n",
    "current_month_year = today.strftime('%B %Y')\n",
    "\n",
    "current_month_year"
   ]
  },
  {
   "cell_type": "markdown",
   "id": "3f5b56e1-f33c-437d-8b8e-efbe7c361a35",
   "metadata": {},
   "source": [
    "Q8. Write a Python program that takes in two dates as input (in the format YYYY-MM-DD) and\n",
    "calculates the difference between them in days, hours, and minutes using Pandas time delta. The program should prompt the user to enter the dates and display the result."
   ]
  },
  {
   "cell_type": "code",
   "execution_count": 22,
   "id": "9a1d7062-7f31-4f65-b1ef-686251d8d622",
   "metadata": {},
   "outputs": [
    {
     "name": "stdin",
     "output_type": "stream",
     "text": [
      "Enter the date(YYYY-MM-DD):-  2024-06-10\n",
      "Enter the date(YYYY-MM-DD):-  2024-06-20\n"
     ]
    },
    {
     "name": "stdout",
     "output_type": "stream",
     "text": [
      "The differnce b/w the dates is :- \n",
      "\tdays:--10\n",
      "\thours:-0\n",
      "\tminutes:-0\n"
     ]
    }
   ],
   "source": [
    "import pandas as pd \n",
    "date1 = input(\"Enter the date(YYYY-MM-DD):- \")\n",
    "date2 = input(\"Enter the date(YYYY-MM-DD):- \")\n",
    "\n",
    "def calculate_date_difference(data1,data2):\n",
    "    try:\n",
    "        \n",
    "        d1_obj = pd.to_datetime(date1)\n",
    "        d2_obj  = pd.to_datetime(date2)\n",
    "    \n",
    "        time_delta = d1_obj - d2_obj\n",
    "    \n",
    "        days = time_delta.days\n",
    "        hours = time_delta.seconds//3600\n",
    "        minutes = (time_delta.seconds % 3600)//60\n",
    "    \n",
    "        return days,hours,minutes\n",
    "    except ValueError:\n",
    "        print(\"Invalid data format .please enter dates in YYYY-MM-DD format \")\n",
    "        return None\n",
    "    \n",
    "\n",
    "result = calculate_date_difference(date1,date2)\n",
    "\n",
    "days,hours,minutes = result\n",
    "print(\"The differnce b/w the dates is :- \")\n",
    "print(f\"\\tdays:-{days}\")\n",
    "print(f\"\\thours:-{hours}\")\n",
    "print(f\"\\tminutes:-{minutes}\")\n",
    "    "
   ]
  },
  {
   "cell_type": "markdown",
   "id": "3d69a9a4-265d-4237-a04f-1f4658bc5b8b",
   "metadata": {},
   "source": [
    "Q9. Write a Python program that reads a CSV file containing categorical data and converts a specified column to a categorical data type. The program should prompt the user to enter the file path, column name, and category order, and then display the sorted data."
   ]
  },
  {
   "cell_type": "code",
   "execution_count": 8,
   "id": "7e42288e-3c91-470e-8fa0-3ad2364b1c57",
   "metadata": {},
   "outputs": [
    {
     "name": "stdin",
     "output_type": "stream",
     "text": [
      "Enter the file path:-  categorical_data.csv\n",
      "Enter the column name:-  Size\n",
      "Enter the category order  (comma separated value):-  Medium,Small,Large\n"
     ]
    },
    {
     "data": {
      "text/html": [
       "<div>\n",
       "<style scoped>\n",
       "    .dataframe tbody tr th:only-of-type {\n",
       "        vertical-align: middle;\n",
       "    }\n",
       "\n",
       "    .dataframe tbody tr th {\n",
       "        vertical-align: top;\n",
       "    }\n",
       "\n",
       "    .dataframe thead th {\n",
       "        text-align: right;\n",
       "    }\n",
       "</style>\n",
       "<table border=\"1\" class=\"dataframe\">\n",
       "  <thead>\n",
       "    <tr style=\"text-align: right;\">\n",
       "      <th></th>\n",
       "      <th>Color</th>\n",
       "      <th>Size</th>\n",
       "      <th>Rating</th>\n",
       "    </tr>\n",
       "  </thead>\n",
       "  <tbody>\n",
       "    <tr>\n",
       "      <th>1</th>\n",
       "      <td>Green</td>\n",
       "      <td>Medium</td>\n",
       "      <td>Good</td>\n",
       "    </tr>\n",
       "    <tr>\n",
       "      <th>3</th>\n",
       "      <td>Red</td>\n",
       "      <td>Medium</td>\n",
       "      <td>Poor</td>\n",
       "    </tr>\n",
       "    <tr>\n",
       "      <th>5</th>\n",
       "      <td>Blue</td>\n",
       "      <td>Medium</td>\n",
       "      <td>Good</td>\n",
       "    </tr>\n",
       "    <tr>\n",
       "      <th>0</th>\n",
       "      <td>Red</td>\n",
       "      <td>Small</td>\n",
       "      <td>Excellent</td>\n",
       "    </tr>\n",
       "    <tr>\n",
       "      <th>4</th>\n",
       "      <td>Green</td>\n",
       "      <td>Small</td>\n",
       "      <td>Very Good</td>\n",
       "    </tr>\n",
       "    <tr>\n",
       "      <th>2</th>\n",
       "      <td>Blue</td>\n",
       "      <td>Large</td>\n",
       "      <td>Fair</td>\n",
       "    </tr>\n",
       "    <tr>\n",
       "      <th>6</th>\n",
       "      <td>Red</td>\n",
       "      <td>Large</td>\n",
       "      <td>Excellent</td>\n",
       "    </tr>\n",
       "    <tr>\n",
       "      <th>7</th>\n",
       "      <td>Green</td>\n",
       "      <td>Large</td>\n",
       "      <td>Fair</td>\n",
       "    </tr>\n",
       "  </tbody>\n",
       "</table>\n",
       "</div>"
      ],
      "text/plain": [
       "   Color    Size     Rating\n",
       "1  Green  Medium       Good\n",
       "3    Red  Medium       Poor\n",
       "5   Blue  Medium       Good\n",
       "0    Red   Small  Excellent\n",
       "4  Green   Small  Very Good\n",
       "2   Blue   Large       Fair\n",
       "6    Red   Large  Excellent\n",
       "7  Green   Large       Fair"
      ]
     },
     "execution_count": 8,
     "metadata": {},
     "output_type": "execute_result"
    }
   ],
   "source": [
    "import pandas as pd\n",
    "\n",
    "file_path = input(\"Enter the file path:- \")\n",
    "column_name = input(\"Enter the column name:- \")\n",
    "category_order = input(\"Enter the category order  (comma separated value):- \").split(',')\n",
    "\n",
    "df = pd.read_csv(file_path)\n",
    "\n",
    "\n",
    "def convert_to_categorical(df,column_name,category_order):\n",
    "    df[column_name] = pd.Categorical(df[column_name],categories = category_order,ordered = True)\n",
    "    return df\n",
    "\n",
    "df = convert_to_categorical(df,column_name,category_order)\n",
    "\n",
    "sorted_values = df.sort_values(by = column_name)\n",
    "\n",
    "sorted_values\n"
   ]
  },
  {
   "cell_type": "markdown",
   "id": "8f6bf216-91da-482e-af35-746951989142",
   "metadata": {},
   "source": [
    "Q10. Write a Python program that reads a CSV file containing sales data for different products and\n",
    "visualizes the data using a stacked bar chart to show the sales of each product category over time. The\n",
    "program should prompt the user to enter the file path and display the chart."
   ]
  },
  {
   "cell_type": "code",
   "execution_count": 16,
   "id": "e366c0a8-1758-4d8f-ae3c-16d36293991e",
   "metadata": {},
   "outputs": [
    {
     "name": "stdin",
     "output_type": "stream",
     "text": [
      "Enter the file path:-  sales_data_sample.csv\n"
     ]
    },
    {
     "data": {
      "image/png": "[encoded data removed]",
      "text/plain": [
       "<Figure size 1400x700 with 1 Axes>"
      ]
     },
     "metadata": {},
     "output_type": "display_data"
    }
   ],
   "source": [
    "#solution\n",
    "import pandas as pd\n",
    "import matplotlib.pyplot as plt\n",
    "\n",
    "# Load the CSV file\n",
    "file_path = input(\"Enter the file path:- \")\n",
    "sales_data = pd.read_csv(file_path)\n",
    "\n",
    "# Convert ORDERDATE to datetime and extract year\n",
    "sales_data['ORDERDATE'] = pd.to_datetime(sales_data['ORDERDATE'])\n",
    "sales_data['YEAR'] = sales_data['ORDERDATE'].dt.year\n",
    "\n",
    "# Aggregate sales by product line and year\n",
    "sales_by_category = sales_data.groupby(['YEAR', 'PRODUCTLINE'])['SALES'].sum().unstack().fillna(0)\n",
    "\n",
    "# Plot the stacked bar chart\n",
    "sales_by_category.plot(kind='bar', stacked=True, figsize=(14, 7))\n",
    "\n",
    "# Add title and labels\n",
    "plt.title('Sales by Product Category Over Time')\n",
    "plt.xlabel('Year')\n",
    "plt.ylabel('Total Sales')\n",
    "plt.legend(title='Product Category')\n",
    "plt.xticks(rotation=45)\n",
    "\n",
    "# Show the plot\n",
    "plt.show()\n"
   ]
  },
  {
   "cell_type": "markdown",
   "id": "ca19b30a-67c1-42e2-80f6-c693c769f268",
   "metadata": {},
   "source": [
    "Q11. You are given a CSV file containing student data that includes the student ID and their test score. Write\n",
    "a Python program that reads the CSV file, calculates the mean, median, and mode of the test scores, and\n",
    "displays the results in a table.\n",
    "The program should do the following:\n",
    "I Prompt the user to enter the file path of the CSV file containing the student dataR\n",
    "I Read the CSV file into a Pandas DataFrameR\n",
    "I Calculate the mean, median, and mode of the test scores using Pandas toolsR\n",
    "I Display the mean, median, and mode in a table.\n",
    "Assume the CSV file contains the following columnsM\n",
    "I Student ID: The ID of the studentR\n",
    "I Test Score: The score of the student's test.\n",
    "Example usage of the program:\n",
    "Enter the file path of the CSV file containing the student data: student_data.csv\n",
    "+-----------+--------+\n",
    "| Statistic | Value |\n",
    "+-----------+--------+\n",
    "| Mean | 79.6 |\n",
    "| Median | 82 |\n",
    "| Mode | 85, 90 |\n",
    "+-----------+--------+\n",
    "Assume that the CSV file student_data.csv contains the following data:\n",
    "Student ID,Test Score\n",
    "1,85\n",
    "2,90\n",
    "3,80\n",
    "4,75\n",
    "5,85\n",
    "6,82\n",
    "7,78\n",
    "8,85\n",
    "9,90\n",
    "10,85\n",
    "The program should calculate the mean, median, and mode of the test scores and display the results\n",
    "in a table."
   ]
  },
  {
   "cell_type": "code",
   "execution_count": 1,
   "id": "176d94f5-5b77-4cc3-85de-40fa9adc1495",
   "metadata": {},
   "outputs": [],
   "source": [
    "#Solution \n",
    "#first of all i created csv file (This part is the additional part)\n",
    "import pandas as pd \n",
    "data = {'Student ID':[1,2,3,4,5,6,7,8,9,10],'Test Score':[85,90,80,75,85,82,78,85,90,85]}\n",
    "df = pd.DataFrame(data)\n",
    "result = df.to_csv('student_data.csv',index = False)\n",
    "result"
   ]
  },
  {
   "cell_type": "code",
   "execution_count": 11,
   "id": "030d711b-4f4a-4104-85d4-29550ccd8bc7",
   "metadata": {},
   "outputs": [
    {
     "name": "stdin",
     "output_type": "stream",
     "text": [
      "Enter the file path:-  student_data.csv\n"
     ]
    },
    {
     "name": "stdout",
     "output_type": "stream",
     "text": [
      "+-------------+---------+\n",
      "| Statistic   |   Value |\n",
      "+=============+=========+\n",
      "| Mean        |    83.5 |\n",
      "+-------------+---------+\n",
      "| Median      |    85   |\n",
      "+-------------+---------+\n",
      "| Mode        |    85   |\n",
      "+-------------+---------+\n"
     ]
    }
   ],
   "source": [
    "from tabulate import tabulate\n",
    "file_path = input(\"Enter the file path:- \")\n",
    "df = pd.read_csv(file_path)\n",
    "student_data = df['Test Score']\n",
    "mean_value = student_data.mean()\n",
    "mode_value = student_data.mode()\n",
    "median_value = student_data.median()\n",
    "\n",
    "statistics_data = [['Mean',mean_value]\n",
    "                    ,['Median',median_value],\n",
    "                    ['Mode',','.join(map(str,mode_value))]\n",
    "                   ]\n",
    "\n",
    "\n",
    "print(tabulate(statistics_data, headers=[\"Statistic\", \"Value\"], tablefmt=\"grid\"))"
   ]
  },
  {
   "cell_type": "code",
   "execution_count": null,
   "id": "3c046f18-48ad-4013-a299-d715b102f221",
   "metadata": {},
   "outputs": [],
   "source": []
  }
 ],
 "metadata": {
  "kernelspec": {
   "display_name": "Python 3 (ipykernel)",
   "language": "python",
   "name": "python3"
  },
  "language_info": {
   "codemirror_mode": {
    "name": "ipython",
    "version": 3
   },
   "file_extension": ".py",
   "mimetype": "text/x-python",
   "name": "python",
   "nbconvert_exporter": "python",
   "pygments_lexer": "ipython3",
   "version": "3.10.8"
  }
 },
 "nbformat": 4,
 "nbformat_minor": 5
}
